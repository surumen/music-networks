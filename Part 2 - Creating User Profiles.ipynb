{
 "cells": [
  {
   "cell_type": "markdown",
   "metadata": {},
   "source": [
    "# Creating User Profiles\n",
    "\n",
    "*Moses Surumen, Ellen Peng, Kuhuk Goyal*  \n",
    "*CS 194-31  Final Project*  \n",
    "*Project Name: Music Networks*\n",
    "\n",
    "---"
   ]
  },
  {
   "cell_type": "markdown",
   "metadata": {},
   "source": [
    "## File Descriptions"
   ]
  },
  {
   "cell_type": "markdown",
   "metadata": {},
   "source": [
    "| File                 | Description                            | \n",
    "| :--------------------|--------------------------------------: |\n",
    "| train_triplets.txt   | Provides tuples of user-song-playcount \n",
    "| taste_profiles.csv   | Sorted train_triplets by users\n",
    "| new_data_dict.txt    | Provides a mapping of users to a list of all songs they played at least 25 times\n",
    "| songs.csv            | All Million Song Dataset Songs\n",
    "| similar_songs.db     | Sqlite3 database of song communities derived from Part 1\n",
    "\n",
    "---"
   ]
  },
  {
   "cell_type": "code",
   "execution_count": 42,
   "metadata": {},
   "outputs": [],
   "source": [
    "# Import Whole Graph and Community Partitions from Part 1\n",
    "%store -r G\n",
    "%store -r G_main_com\n",
    "%store -r partition\n",
    "%store -r communities"
   ]
  },
  {
   "cell_type": "code",
   "execution_count": 14,
   "metadata": {},
   "outputs": [],
   "source": [
    "# Pandas\n",
    "import pandas as pd\n",
    "\n",
    "# Graph\n",
    "import community\n",
    "import networkx as nx\n",
    "\n",
    "# Plot\n",
    "import matplotlib.pyplot as plt\n",
    "import seaborn as sns\n",
    "\n",
    "# Combinations\n",
    "import itertools\n",
    "\n",
    "# Reading Dictionaries\n",
    "import json\n",
    "\n",
    "import random"
   ]
  },
  {
   "cell_type": "markdown",
   "metadata": {},
   "source": [
    "___"
   ]
  },
  {
   "cell_type": "markdown",
   "metadata": {},
   "source": [
    "## Get Echo Nest Taste Profile"
   ]
  },
  {
   "cell_type": "code",
   "execution_count": null,
   "metadata": {},
   "outputs": [],
   "source": [
    "df = pd.read_csv('data/train_triplets.txt', delimiter=\"\\t\", header=None, names=[\"User\", \"Song\", \"Playcount\"])"
   ]
  },
  {
   "cell_type": "code",
   "execution_count": 5,
   "metadata": {},
   "outputs": [
    {
     "data": {
      "text/html": [
       "<div>\n",
       "<style scoped>\n",
       "    .dataframe tbody tr th:only-of-type {\n",
       "        vertical-align: middle;\n",
       "    }\n",
       "\n",
       "    .dataframe tbody tr th {\n",
       "        vertical-align: top;\n",
       "    }\n",
       "\n",
       "    .dataframe thead th {\n",
       "        text-align: right;\n",
       "    }\n",
       "</style>\n",
       "<table border=\"1\" class=\"dataframe\">\n",
       "  <thead>\n",
       "    <tr style=\"text-align: right;\">\n",
       "      <th></th>\n",
       "      <th>User</th>\n",
       "      <th>Song</th>\n",
       "      <th>Playcount</th>\n",
       "    </tr>\n",
       "  </thead>\n",
       "  <tbody>\n",
       "    <tr>\n",
       "      <th>0</th>\n",
       "      <td>b80344d063b5ccb3212f76538f3d9e43d87dca9e</td>\n",
       "      <td>SOAKIMP12A8C130995</td>\n",
       "      <td>1</td>\n",
       "    </tr>\n",
       "    <tr>\n",
       "      <th>1</th>\n",
       "      <td>b80344d063b5ccb3212f76538f3d9e43d87dca9e</td>\n",
       "      <td>SOAPDEY12A81C210A9</td>\n",
       "      <td>1</td>\n",
       "    </tr>\n",
       "    <tr>\n",
       "      <th>2</th>\n",
       "      <td>b80344d063b5ccb3212f76538f3d9e43d87dca9e</td>\n",
       "      <td>SOBBMDR12A8C13253B</td>\n",
       "      <td>2</td>\n",
       "    </tr>\n",
       "    <tr>\n",
       "      <th>3</th>\n",
       "      <td>b80344d063b5ccb3212f76538f3d9e43d87dca9e</td>\n",
       "      <td>SOBFNSP12AF72A0E22</td>\n",
       "      <td>1</td>\n",
       "    </tr>\n",
       "    <tr>\n",
       "      <th>4</th>\n",
       "      <td>b80344d063b5ccb3212f76538f3d9e43d87dca9e</td>\n",
       "      <td>SOBFOVM12A58A7D494</td>\n",
       "      <td>1</td>\n",
       "    </tr>\n",
       "  </tbody>\n",
       "</table>\n",
       "</div>"
      ],
      "text/plain": [
       "                                       User                Song  Playcount\n",
       "0  b80344d063b5ccb3212f76538f3d9e43d87dca9e  SOAKIMP12A8C130995          1\n",
       "1  b80344d063b5ccb3212f76538f3d9e43d87dca9e  SOAPDEY12A81C210A9          1\n",
       "2  b80344d063b5ccb3212f76538f3d9e43d87dca9e  SOBBMDR12A8C13253B          2\n",
       "3  b80344d063b5ccb3212f76538f3d9e43d87dca9e  SOBFNSP12AF72A0E22          1\n",
       "4  b80344d063b5ccb3212f76538f3d9e43d87dca9e  SOBFOVM12A58A7D494          1"
      ]
     },
     "execution_count": 5,
     "metadata": {},
     "output_type": "execute_result"
    }
   ],
   "source": [
    "df.head()"
   ]
  },
  {
   "cell_type": "code",
   "execution_count": 6,
   "metadata": {},
   "outputs": [
    {
     "data": {
      "text/plain": [
       "48373586"
      ]
     },
     "execution_count": 6,
     "metadata": {},
     "output_type": "execute_result"
    }
   ],
   "source": [
    "df.shape[0]"
   ]
  },
  {
   "cell_type": "code",
   "execution_count": 7,
   "metadata": {},
   "outputs": [
    {
     "data": {
      "text/plain": [
       "3"
      ]
     },
     "execution_count": 7,
     "metadata": {},
     "output_type": "execute_result"
    }
   ],
   "source": [
    "df.shape[1]"
   ]
  },
  {
   "cell_type": "markdown",
   "metadata": {},
   "source": [
    "___"
   ]
  },
  {
   "cell_type": "markdown",
   "metadata": {},
   "source": [
    "## Pre-Processing Data"
   ]
  },
  {
   "cell_type": "markdown",
   "metadata": {},
   "source": [
    "We drop all songs from our dataset which have been played less that 25 times, and write the updated dataset to a different file"
   ]
  },
  {
   "cell_type": "code",
   "execution_count": 14,
   "metadata": {},
   "outputs": [],
   "source": [
    "df.drop(df.loc[df['Playcount'] < 25].index, inplace=True)"
   ]
  },
  {
   "cell_type": "code",
   "execution_count": 15,
   "metadata": {},
   "outputs": [
    {
     "data": {
      "text/plain": [
       "476267"
      ]
     },
     "execution_count": 15,
     "metadata": {},
     "output_type": "execute_result"
    }
   ],
   "source": [
    "df.shape[0]"
   ]
  },
  {
   "cell_type": "code",
   "execution_count": 16,
   "metadata": {},
   "outputs": [
    {
     "data": {
      "text/html": [
       "<div>\n",
       "<style scoped>\n",
       "    .dataframe tbody tr th:only-of-type {\n",
       "        vertical-align: middle;\n",
       "    }\n",
       "\n",
       "    .dataframe tbody tr th {\n",
       "        vertical-align: top;\n",
       "    }\n",
       "\n",
       "    .dataframe thead th {\n",
       "        text-align: right;\n",
       "    }\n",
       "</style>\n",
       "<table border=\"1\" class=\"dataframe\">\n",
       "  <thead>\n",
       "    <tr style=\"text-align: right;\">\n",
       "      <th></th>\n",
       "      <th>User</th>\n",
       "      <th>Song</th>\n",
       "      <th>Playcount</th>\n",
       "    </tr>\n",
       "  </thead>\n",
       "  <tbody>\n",
       "    <tr>\n",
       "      <th>503</th>\n",
       "      <td>d6589314c0a9bcbca4fee0c93b14bc402363afea</td>\n",
       "      <td>SOBONKR12A58A7A7E0</td>\n",
       "      <td>26</td>\n",
       "    </tr>\n",
       "    <tr>\n",
       "      <th>787</th>\n",
       "      <td>5a905f000fc1ff3df7ca807d57edb608863db05d</td>\n",
       "      <td>SOMVTRL12A67AE0921</td>\n",
       "      <td>28</td>\n",
       "    </tr>\n",
       "    <tr>\n",
       "      <th>1326</th>\n",
       "      <td>a820d2d4f16bbd53be9e41e0417dfb234bfdfba8</td>\n",
       "      <td>SOGKEGN12AB0185355</td>\n",
       "      <td>26</td>\n",
       "    </tr>\n",
       "    <tr>\n",
       "      <th>2148</th>\n",
       "      <td>3f152d355d53865a2ca27ac5ceeffb7ebaea0a26</td>\n",
       "      <td>SOQGETC12AB017F1E5</td>\n",
       "      <td>26</td>\n",
       "    </tr>\n",
       "    <tr>\n",
       "      <th>2209</th>\n",
       "      <td>3f152d355d53865a2ca27ac5ceeffb7ebaea0a26</td>\n",
       "      <td>SOYZLWW12AB0186148</td>\n",
       "      <td>55</td>\n",
       "    </tr>\n",
       "  </tbody>\n",
       "</table>\n",
       "</div>"
      ],
      "text/plain": [
       "                                          User                Song  Playcount\n",
       "503   d6589314c0a9bcbca4fee0c93b14bc402363afea  SOBONKR12A58A7A7E0         26\n",
       "787   5a905f000fc1ff3df7ca807d57edb608863db05d  SOMVTRL12A67AE0921         28\n",
       "1326  a820d2d4f16bbd53be9e41e0417dfb234bfdfba8  SOGKEGN12AB0185355         26\n",
       "2148  3f152d355d53865a2ca27ac5ceeffb7ebaea0a26  SOQGETC12AB017F1E5         26\n",
       "2209  3f152d355d53865a2ca27ac5ceeffb7ebaea0a26  SOYZLWW12AB0186148         55"
      ]
     },
     "execution_count": 16,
     "metadata": {},
     "output_type": "execute_result"
    }
   ],
   "source": [
    "df.head()"
   ]
  },
  {
   "cell_type": "code",
   "execution_count": 17,
   "metadata": {},
   "outputs": [],
   "source": [
    "df.to_csv(\"taste_profiles.csv\", encoding='utf-8', index=False)"
   ]
  },
  {
   "cell_type": "markdown",
   "metadata": {},
   "source": [
    "## Sort Dataframe based on User IDs"
   ]
  },
  {
   "cell_type": "code",
   "execution_count": null,
   "metadata": {},
   "outputs": [],
   "source": [
    "df.sort_values('User')"
   ]
  },
  {
   "cell_type": "markdown",
   "metadata": {},
   "source": [
    "## Create Hashmap with Values as Songs and Keys as Users"
   ]
  },
  {
   "cell_type": "code",
   "execution_count": 19,
   "metadata": {},
   "outputs": [],
   "source": [
    "from collections import defaultdict"
   ]
  },
  {
   "cell_type": "code",
   "execution_count": 20,
   "metadata": {},
   "outputs": [],
   "source": [
    "data_dict = defaultdict(list)\n",
    "for k, v in zip(df.User.values,df.Song.values):\n",
    "    data_dict[k].append(v)"
   ]
  },
  {
   "cell_type": "code",
   "execution_count": 21,
   "metadata": {},
   "outputs": [
    {
     "data": {
      "text/plain": [
       "187548"
      ]
     },
     "execution_count": 21,
     "metadata": {},
     "output_type": "execute_result"
    }
   ],
   "source": [
    "len(data_dict)"
   ]
  },
  {
   "cell_type": "markdown",
   "metadata": {},
   "source": [
    "## Write Dictionary to File"
   ]
  },
  {
   "cell_type": "code",
   "execution_count": 26,
   "metadata": {},
   "outputs": [],
   "source": [
    "import json"
   ]
  },
  {
   "cell_type": "code",
   "execution_count": 27,
   "metadata": {},
   "outputs": [],
   "source": [
    "json.dump(data_dict, open(\"data_dict.txt\",'w'))"
   ]
  },
  {
   "cell_type": "markdown",
   "metadata": {},
   "source": [
    "____"
   ]
  },
  {
   "cell_type": "markdown",
   "metadata": {},
   "source": [
    "# User-Profile Construction"
   ]
  },
  {
   "cell_type": "code",
   "execution_count": 1,
   "metadata": {},
   "outputs": [],
   "source": [
    "# Function that maps users to songs\n",
    "def map_users_to_songs(data_file):\n",
    "    hashmap = dict()\n",
    "    with open(data_file,\"r\") as f:\n",
    "        for line in f:\n",
    "            user,song,_ = line.strip().split('\\t')\n",
    "            if user in hashmap:\n",
    "                hashmap[user].add(song)\n",
    "            else:\n",
    "                hashmap[user] = set([song])\n",
    "    return hashmap"
   ]
  },
  {
   "cell_type": "code",
   "execution_count": 2,
   "metadata": {},
   "outputs": [],
   "source": [
    "# Function that maps song communities from Part 2 to users\n",
    "def project_songs_to_users(data_file, set_users=None, ratio=1.0):\n",
    "    hashmap = dict()\n",
    "    with open(data_file,\"r\") as f:\n",
    "        for line in f:\n",
    "            if random.random()<ratio:\n",
    "                user,song,_=line.strip().split('\\t')\n",
    "                if not set_users or user in set_users:\n",
    "                    if song in hashmap:\n",
    "                        hashmap[song].add(user)\n",
    "                    else:\n",
    "                        hashmap[song]=set([user])\n",
    "    return hashmap"
   ]
  },
  {
   "cell_type": "code",
   "execution_count": 9,
   "metadata": {},
   "outputs": [],
   "source": [
    "### Generates similar songs in the network \n",
    "def compute_similarity(current_songs, playlist):\n",
    "    similarity ={}\n",
    "    for s in playlist:\n",
    "        similarity[s]=0.0\n",
    "        if not (s in self.s2u_tr):\n",
    "            continue\n",
    "        for u_song in ucurrent_songs:\n",
    "            if not (u_song in self.s2u_tr):\n",
    "                continue\n",
    "            min_sim = 0.7\n",
    "            similarity[s]+=math.pow(min_sim,3)\n",
    "    return similarity\n",
    "\n",
    "def generate_similars(current_songs, G):\n",
    "    similars ={}\n",
    "    for s in G:\n",
    "        similars[s]=0.0\n",
    "        for u_song in current_songs:\n",
    "            min_sim = 0.7\n",
    "            similars[s]+=math.pow(0.7,3)\n",
    "    return similars"
   ]
  },
  {
   "cell_type": "code",
   "execution_count": 8,
   "metadata": {},
   "outputs": [],
   "source": [
    "def generateRec(user, user_song_map):\n",
    "    songs_for_user_sorted =[]\n",
    "    for p in self.predictors:\n",
    "        ssongs=[]\n",
    "        if user in user_song_map:\n",
    "            ssongs = sort_dict_dec(p.Score(user_song_map[user],all_songs))\n",
    "        else:\n",
    "            ssongs=list(all_songs)\n",
    "\n",
    "        recommended_songs = []\n",
    "        for x in ssongs:\n",
    "            if len(recommended_songs)>=50:  ###### Only recommend a max of 50 songs\n",
    "                break\n",
    "            if x not in user_song_map[user]:\n",
    "                recommended_songs.append(x)   #### add song to list\n",
    "        songs_for_user_sorted += [recommended_songs]\n",
    "    return songs_for_user_sorted "
   ]
  },
  {
   "cell_type": "code",
   "execution_count": null,
   "metadata": {},
   "outputs": [],
   "source": []
  },
  {
   "cell_type": "markdown",
   "metadata": {},
   "source": [
    "____"
   ]
  },
  {
   "cell_type": "markdown",
   "metadata": {},
   "source": [
    "## Train Recommender"
   ]
  },
  {
   "cell_type": "code",
   "execution_count": 3,
   "metadata": {},
   "outputs": [],
   "source": [
    "train_data = \"data/train_data.txt\""
   ]
  },
  {
   "cell_type": "code",
   "execution_count": 11,
   "metadata": {},
   "outputs": [],
   "source": [
    "def get_users(if_str):\n",
    "    all_users = set()\n",
    "    with open(if_str,\"r\") as f:\n",
    "        for line in f:\n",
    "            user,_,_=line.strip().split('\\t')\n",
    "            if user not in all_users:\n",
    "                all_users.add(user)\n",
    "    return all_users "
   ]
  },
  {
   "cell_type": "code",
   "execution_count": 12,
   "metadata": {},
   "outputs": [],
   "source": [
    "all_users = get_users(train_data)\n",
    "\n",
    "\n",
    "train_users = {}\n",
    "for k,v in enumerate(all_users):\n",
    "    train_users[v] = k"
   ]
  },
  {
   "cell_type": "code",
   "execution_count": 17,
   "metadata": {},
   "outputs": [],
   "source": [
    "# project users to micro-genres\n",
    "user_micro_genres = project_songs_to_users(train_data)"
   ]
  },
  {
   "cell_type": "code",
   "execution_count": 19,
   "metadata": {},
   "outputs": [],
   "source": [
    "# get neighbors of each node in the user's training set\n",
    "def nearestneighbors(G, node):\n",
    "    result = []\n",
    "    for k, v in first_five_train.items():\n",
    "        # set max neighborhood size to 12\n",
    "        for i in range(12):\n",
    "            result.append(G.neighbors(song for song in v))\n",
    "    return result"
   ]
  },
  {
   "cell_type": "code",
   "execution_count": 12,
   "metadata": {},
   "outputs": [
    {
     "name": "stdout",
     "output_type": "stream",
     "text": [
      "user_min: 1 , user_max: 100\n"
     ]
    }
   ],
   "source": [
    "user_min,user_max,osfile = 1,100,\"user_predictions.txt\"\n",
    "user_min=int(user_min)\n",
    "user_max=int(user_max)\n",
    "\n",
    "print(\"user_min: %d , user_max: %d\"%(user_min,user_max))"
   ]
  },
  {
   "cell_type": "code",
   "execution_count": 15,
   "metadata": {},
   "outputs": [
    {
     "name": "stdout",
     "output_type": "stream",
     "text": [
      "Creating predictor..\n"
     ]
    }
   ],
   "source": [
    "### s : current song entered by user\n",
    "### G : our songs network imported from Part 1\n",
    "print('Creating predictor..')\n",
    "recommendations = generateRec(s, song_map)"
   ]
  },
  {
   "cell_type": "markdown",
   "metadata": {},
   "source": [
    "____"
   ]
  },
  {
   "cell_type": "markdown",
   "metadata": {},
   "source": [
    "## Evaluate Test Data"
   ]
  },
  {
   "cell_type": "code",
   "execution_count": 22,
   "metadata": {},
   "outputs": [],
   "source": [
    "test_data = \"data/test_data.txt\""
   ]
  },
  {
   "cell_type": "code",
   "execution_count": 23,
   "metadata": {},
   "outputs": [],
   "source": [
    "new_users = get_users(test_data)\n",
    "\n",
    "\n",
    "test_users = {}\n",
    "for k,v in enumerate(new_users):\n",
    "    test_users[v] = k"
   ]
  },
  {
   "cell_type": "code",
   "execution_count": 24,
   "metadata": {},
   "outputs": [],
   "source": [
    "# project users to micro-genres\n",
    "user_micro_genres = project_songs_to_users(test_data)"
   ]
  },
  {
   "cell_type": "code",
   "execution_count": 25,
   "metadata": {},
   "outputs": [],
   "source": [
    "# get neighbors of each node in the user's training set\n",
    "def nearestneighbors(G, node):\n",
    "    result = []\n",
    "    for k, v in first_five_train.items():\n",
    "        # set max neighborhood size to 50\n",
    "        for i in range(50):\n",
    "            result.append(G.neighbors(song for song in v))\n",
    "    return result"
   ]
  },
  {
   "cell_type": "code",
   "execution_count": null,
   "metadata": {},
   "outputs": [],
   "source": [
    "## write prediction to file\n",
    "json.dumps(dict(nearestneighbors(G, node) for node in user_micro_genres))"
   ]
  },
  {
   "cell_type": "markdown",
   "metadata": {},
   "source": [
    "____"
   ]
  },
  {
   "cell_type": "markdown",
   "metadata": {},
   "source": [
    "## Cross-Validation"
   ]
  },
  {
   "cell_type": "code",
   "execution_count": 5,
   "metadata": {},
   "outputs": [
    {
     "name": "stderr",
     "output_type": "stream",
     "text": [
      "/Users/moses/miniconda3/envs/16b/lib/python3.6/site-packages/sklearn/cross_validation.py:41: DeprecationWarning: This module was deprecated in version 0.18 in favor of the model_selection module into which all the refactored classes and functions are moved. Also note that the interface of the new CV iterators are different from that of this module. This module will be removed in 0.20.\n",
      "  \"This module will be removed in 0.20.\", DeprecationWarning)\n"
     ]
    }
   ],
   "source": [
    "from sklearn.cross_validation import train_test_split\n",
    "from sklearn.neighbors import KNeighborsClassifier\n",
    "from sklearn import metrics"
   ]
  },
  {
   "cell_type": "code",
   "execution_count": 4,
   "metadata": {},
   "outputs": [],
   "source": [
    "%store -r users\n",
    "%store -r songs_recommended"
   ]
  },
  {
   "cell_type": "code",
   "execution_count": 7,
   "metadata": {},
   "outputs": [
    {
     "name": "stdout",
     "output_type": "stream",
     "text": [
      "0.4736842105263158\n"
     ]
    }
   ],
   "source": [
    "train_users, test_users, train_songs_recommended, test_songs_recommended = train_test_split(users, songs_recommended, random_state=6)\n",
    "\n",
    "# check classification accuracy of KNN with K=50\n",
    "knn = KNeighborsClassifier(n_neighbors=50)\n",
    "knn.fit(train_users, train_songs_recommended)\n",
    "predicted_songs = knn.predict(test_users)\n",
    "metrics.accuracy_score(test_songs_recommended, predicted_songs)"
   ]
  },
  {
   "cell_type": "markdown",
   "metadata": {},
   "source": [
    "## Plot Confusion Matrix"
   ]
  },
  {
   "cell_type": "code",
   "execution_count": 59,
   "metadata": {},
   "outputs": [],
   "source": [
    "import numpy as np\n",
    "import pandas as pd\n",
    "import matplotlib.pyplot as plt\n",
    "import seaborn as sns\n",
    "from sklearn.metrics import confusion_matrix"
   ]
  },
  {
   "cell_type": "code",
   "execution_count": 62,
   "metadata": {},
   "outputs": [],
   "source": [
    "def plot_confusion_matrix(\n",
    "    ax, matrix, labels, title='Confusion matrix', fontsize=9):\n",
    "\n",
    "    ax.set_xticks([x for x in range(len(labels))])\n",
    "    ax.set_yticks([y for y in range(len(labels))])\n",
    "\n",
    "    #Place labels on minor ticks\n",
    "    ax.set_xticks([x + 0.5 for x in range(len(labels))], minor=True)\n",
    "    ax.set_xticklabels(labels, rotation='90', fontsize=fontsize, minor=True)\n",
    "    ax.set_yticks([y + 0.5 for y in range(len(labels))], minor=True)\n",
    "    ax.set_yticklabels(labels[::-1], fontsize=fontsize, minor=True)\n",
    "\n",
    "    # Hide major tick labels\n",
    "    ax.tick_params(which='major', labelbottom='off', labelleft='off')\n",
    "\n",
    "    # Finally, hide minor tick marks\n",
    "    ax.tick_params(which='minor', width=0)\n",
    "\n",
    "    # Plot heat map\n",
    "    proportions = [1. * row / sum(row) for row in matrix]\n",
    "    ax.pcolor(np.array(proportions[::-1]), cmap=plt.cm.Reds)\n",
    "\n",
    "    # Plot counts as text\n",
    "    for row in range(len(matrix)):\n",
    "        for col in range(len(matrix[row])):\n",
    "            confusion = matrix[::-1][row][col]\n",
    "            if confusion != 0:\n",
    "                ax.text(col + 0.5, row + 0.5, int(confusion),\n",
    "                        fontsize=fontsize,\n",
    "                        horizontalalignment='center',\n",
    "                        verticalalignment='center')\n",
    "\n",
    "    # Add finishing touches\n",
    "    ax.grid(True, linestyle=':')\n",
    "    ax.set_title(title, fontsize=fontsize)\n",
    "    ax.set_xlabel('Test Songs', fontsize=fontsize)\n",
    "    ax.set_ylabel('Validation Songs', fontsize=fontsize)\n",
    "\n",
    "    plt.show()"
   ]
  },
  {
   "cell_type": "code",
   "execution_count": 63,
   "metadata": {},
   "outputs": [
    {
     "name": "stderr",
     "output_type": "stream",
     "text": [
      "/Users/moses/miniconda3/envs/16b/lib/python3.6/site-packages/matplotlib/cbook/deprecation.py:107: MatplotlibDeprecationWarning: Passing one of 'on', 'true', 'off', 'false' as a boolean is deprecated; use an actual boolean (True/False) instead.\n",
      "  warnings.warn(message, mplDeprecation, stacklevel=1)\n",
      "/Users/moses/miniconda3/envs/16b/lib/python3.6/site-packages/matplotlib/cbook/deprecation.py:107: MatplotlibDeprecationWarning: Passing one of 'on', 'true', 'off', 'false' as a boolean is deprecated; use an actual boolean (True/False) instead.\n",
      "  warnings.warn(message, mplDeprecation, stacklevel=1)\n"
     ]
    },
    {
     "data": {
      "image/png": "[encoded data removed]",
      "text/plain": [
       "<Figure size 720x720 with 1 Axes>"
      ]
     },
     "metadata": {},
     "output_type": "display_data"
    }
   ],
   "source": [
    "fig, ax = plt.subplots(figsize=(10, 10))\n",
    "\n",
    "plot_confusion_matrix(ax, predicted_songs, labels=test_users, fontsize=10)"
   ]
  },
  {
   "cell_type": "markdown",
   "metadata": {},
   "source": [
    "___"
   ]
  },
  {
   "cell_type": "code",
   "execution_count": null,
   "metadata": {},
   "outputs": [],
   "source": [
    "########## PRE-PROCESSING STUFF   ##########"
   ]
  },
  {
   "cell_type": "markdown",
   "metadata": {},
   "source": [
    "____"
   ]
  },
  {
   "cell_type": "markdown",
   "metadata": {},
   "source": [
    "____"
   ]
  },
  {
   "cell_type": "markdown",
   "metadata": {},
   "source": [
    "## Remove Key-Value pairs with less than 25 Songs"
   ]
  },
  {
   "cell_type": "code",
   "execution_count": 36,
   "metadata": {},
   "outputs": [],
   "source": [
    "new_data_dict = data_dict"
   ]
  },
  {
   "cell_type": "code",
   "execution_count": 37,
   "metadata": {},
   "outputs": [
    {
     "data": {
      "text/plain": [
       "24720"
      ]
     },
     "execution_count": 37,
     "metadata": {},
     "output_type": "execute_result"
    }
   ],
   "source": [
    "len(new_data_dict)"
   ]
  },
  {
   "cell_type": "code",
   "execution_count": 38,
   "metadata": {},
   "outputs": [],
   "source": [
    "for k in sorted(new_data_dict, key=lambda k: len(new_data_dict[k]), reverse=True):\n",
    "    if len(new_data_dict[k]) < 25:\n",
    "        del new_data_dict[k]"
   ]
  },
  {
   "cell_type": "code",
   "execution_count": 39,
   "metadata": {},
   "outputs": [
    {
     "data": {
      "text/plain": [
       "274"
      ]
     },
     "execution_count": 39,
     "metadata": {},
     "output_type": "execute_result"
    }
   ],
   "source": [
    "len(new_data_dict)"
   ]
  },
  {
   "cell_type": "code",
   "execution_count": 41,
   "metadata": {},
   "outputs": [],
   "source": [
    "json.dump(new_data_dict, open(\"new_data_dict.txt\",'w'))"
   ]
  },
  {
   "cell_type": "code",
   "execution_count": null,
   "metadata": {},
   "outputs": [],
   "source": [
    "%cat new_data_dict.txt"
   ]
  },
  {
   "cell_type": "markdown",
   "metadata": {},
   "source": [
    "____"
   ]
  },
  {
   "cell_type": "markdown",
   "metadata": {},
   "source": [
    "## Match SongIDs to TrackIDs"
   ]
  },
  {
   "cell_type": "markdown",
   "metadata": {},
   "source": [
    "The Echo Nest Tastes Profiles contained a bug where there were mismatches between song-track IDs from those available in the Million Song Dataset. The mismatched songs are stored in a file **song_track_mismatches.txt** and the affected songs are removed manually from ***taste_profiles.csv**"
   ]
  },
  {
   "cell_type": "code",
   "execution_count": 18,
   "metadata": {},
   "outputs": [],
   "source": [
    "tastes = pd.read_csv('data/taste_profiles.csv')\n",
    "songs = pd.read_csv('data/songs.csv')"
   ]
  },
  {
   "cell_type": "code",
   "execution_count": 19,
   "metadata": {},
   "outputs": [],
   "source": [
    "songs = songs.drop(['song_name', 'danceability', 'duration','energy','loudness'], axis=1)"
   ]
  },
  {
   "cell_type": "code",
   "execution_count": 20,
   "metadata": {},
   "outputs": [
    {
     "data": {
      "text/html": [
       "<div>\n",
       "<style scoped>\n",
       "    .dataframe tbody tr th:only-of-type {\n",
       "        vertical-align: middle;\n",
       "    }\n",
       "\n",
       "    .dataframe tbody tr th {\n",
       "        vertical-align: top;\n",
       "    }\n",
       "\n",
       "    .dataframe thead th {\n",
       "        text-align: right;\n",
       "    }\n",
       "</style>\n",
       "<table border=\"1\" class=\"dataframe\">\n",
       "  <thead>\n",
       "    <tr style=\"text-align: right;\">\n",
       "      <th></th>\n",
       "      <th>song_id</th>\n",
       "      <th>track_id</th>\n",
       "    </tr>\n",
       "  </thead>\n",
       "  <tbody>\n",
       "    <tr>\n",
       "      <th>0</th>\n",
       "      <td>SOGSOUE12A58A76443</td>\n",
       "      <td>TRARRPG12903CD1DE9</td>\n",
       "    </tr>\n",
       "    <tr>\n",
       "      <th>1</th>\n",
       "      <td>SOVVDCO12AB0187AF7</td>\n",
       "      <td>TRARRER128F9328521</td>\n",
       "    </tr>\n",
       "    <tr>\n",
       "      <th>2</th>\n",
       "      <td>SOZQSGL12AF72A9145</td>\n",
       "      <td>TRARREF128F422FD96</td>\n",
       "    </tr>\n",
       "    <tr>\n",
       "      <th>3</th>\n",
       "      <td>SOBTEHX12A6D4FBF18</td>\n",
       "      <td>TRARRQO128F427B5F5</td>\n",
       "    </tr>\n",
       "    <tr>\n",
       "      <th>4</th>\n",
       "      <td>SOXGDVW12AB01864E7</td>\n",
       "      <td>TRARRMK12903CDF793</td>\n",
       "    </tr>\n",
       "  </tbody>\n",
       "</table>\n",
       "</div>"
      ],
      "text/plain": [
       "              song_id            track_id\n",
       "0  SOGSOUE12A58A76443  TRARRPG12903CD1DE9\n",
       "1  SOVVDCO12AB0187AF7  TRARRER128F9328521\n",
       "2  SOZQSGL12AF72A9145  TRARREF128F422FD96\n",
       "3  SOBTEHX12A6D4FBF18  TRARRQO128F427B5F5\n",
       "4  SOXGDVW12AB01864E7  TRARRMK12903CDF793"
      ]
     },
     "execution_count": 20,
     "metadata": {},
     "output_type": "execute_result"
    }
   ],
   "source": [
    "songs.head()"
   ]
  },
  {
   "cell_type": "code",
   "execution_count": 21,
   "metadata": {},
   "outputs": [
    {
     "data": {
      "text/html": [
       "<div>\n",
       "<style scoped>\n",
       "    .dataframe tbody tr th:only-of-type {\n",
       "        vertical-align: middle;\n",
       "    }\n",
       "\n",
       "    .dataframe tbody tr th {\n",
       "        vertical-align: top;\n",
       "    }\n",
       "\n",
       "    .dataframe thead th {\n",
       "        text-align: right;\n",
       "    }\n",
       "</style>\n",
       "<table border=\"1\" class=\"dataframe\">\n",
       "  <thead>\n",
       "    <tr style=\"text-align: right;\">\n",
       "      <th></th>\n",
       "      <th>User</th>\n",
       "      <th>Song</th>\n",
       "      <th>Playcount</th>\n",
       "    </tr>\n",
       "  </thead>\n",
       "  <tbody>\n",
       "    <tr>\n",
       "      <th>0</th>\n",
       "      <td>d6589314c0a9bcbca4fee0c93b14bc402363afea</td>\n",
       "      <td>SOBONKR12A58A7A7E0</td>\n",
       "      <td>26</td>\n",
       "    </tr>\n",
       "    <tr>\n",
       "      <th>1</th>\n",
       "      <td>5a905f000fc1ff3df7ca807d57edb608863db05d</td>\n",
       "      <td>SOMVTRL12A67AE0921</td>\n",
       "      <td>28</td>\n",
       "    </tr>\n",
       "    <tr>\n",
       "      <th>2</th>\n",
       "      <td>a820d2d4f16bbd53be9e41e0417dfb234bfdfba8</td>\n",
       "      <td>SOGKEGN12AB0185355</td>\n",
       "      <td>26</td>\n",
       "    </tr>\n",
       "    <tr>\n",
       "      <th>3</th>\n",
       "      <td>3f152d355d53865a2ca27ac5ceeffb7ebaea0a26</td>\n",
       "      <td>SOQGETC12AB017F1E5</td>\n",
       "      <td>26</td>\n",
       "    </tr>\n",
       "    <tr>\n",
       "      <th>4</th>\n",
       "      <td>3f152d355d53865a2ca27ac5ceeffb7ebaea0a26</td>\n",
       "      <td>SOYZLWW12AB0186148</td>\n",
       "      <td>55</td>\n",
       "    </tr>\n",
       "  </tbody>\n",
       "</table>\n",
       "</div>"
      ],
      "text/plain": [
       "                                       User                Song  Playcount\n",
       "0  d6589314c0a9bcbca4fee0c93b14bc402363afea  SOBONKR12A58A7A7E0         26\n",
       "1  5a905f000fc1ff3df7ca807d57edb608863db05d  SOMVTRL12A67AE0921         28\n",
       "2  a820d2d4f16bbd53be9e41e0417dfb234bfdfba8  SOGKEGN12AB0185355         26\n",
       "3  3f152d355d53865a2ca27ac5ceeffb7ebaea0a26  SOQGETC12AB017F1E5         26\n",
       "4  3f152d355d53865a2ca27ac5ceeffb7ebaea0a26  SOYZLWW12AB0186148         55"
      ]
     },
     "execution_count": 21,
     "metadata": {},
     "output_type": "execute_result"
    }
   ],
   "source": [
    "tastes.head()"
   ]
  },
  {
   "cell_type": "code",
   "execution_count": 8,
   "metadata": {},
   "outputs": [],
   "source": [
    "songs_dict = dict()\n",
    "for index, row in songs.iterrows():\n",
    "    songs_dict[row[0]] = row[1]"
   ]
  },
  {
   "cell_type": "code",
   "execution_count": 9,
   "metadata": {},
   "outputs": [
    {
     "data": {
      "text/plain": [
       "{'SOGSOUE12A58A76443': 'TRARRPG12903CD1DE9',\n",
       " 'SOVVDCO12AB0187AF7': 'TRARRER128F9328521'}"
      ]
     },
     "execution_count": 9,
     "metadata": {},
     "output_type": "execute_result"
    }
   ],
   "source": [
    "from itertools import islice\n",
    "dict(islice(songs_dict.items(), 0, 2))"
   ]
  },
  {
   "cell_type": "markdown",
   "metadata": {},
   "source": [
    "____"
   ]
  },
  {
   "cell_type": "code",
   "execution_count": 43,
   "metadata": {},
   "outputs": [
    {
     "name": "stdout",
     "output_type": "stream",
     "text": [
      "Number of major micro-genres 85\n",
      "\n",
      "Main communities and their center node: {4: 'SODSOBX12AC4686B4D', 9: 'SOTIDVB12A58A7E5C7', 11: 'SOVBQWR12A8C137843', 16: 'SOYWZTU12AB0180E26', 19: 'SOJLDJL12A81C238A0', 25: 'SOWPAXV12A67ADA046', 32: 'SOSXQPZ12AB01800CB', 33: 'SOXYNYD12A8C13DF7B', 36: 'SOTAMUT12A8C13757E', 42: 'SOFMHGN12A8C136BCB', 52: 'SOCIJOM12A58A7CBF8', 55: 'SOKJEMV12A8C1374AD', 57: 'SOWRILA12A8C1360D0', 59: 'SOQTFZH12AB0188264', 62: 'SOCUDML12A5829113A', 63: 'SOPOSOZ12AB018C568', 64: 'SOPSDCQ12A8C135CB6', 65: 'SODOOMJ12AB0185178', 68: 'SOGXGUK12A6D4FC1B4', 72: 'SOUTQDI12A67AE11FD', 75: 'SOACLMC12A8C13FA4C', 79: 'SOLBPPU12AB0187DD7', 86: 'SODRQRZ12A58A7BBC4', 88: 'SOYNXWG12AC468F51A', 97: 'SOEEEIL12A8C138EEE', 99: 'SOUNCKW12AB0188044', 109: 'SONOVXO12AB01877FE', 110: 'SOYBNLW12A6D4FC930', 124: 'SOGRGML12A8C136D75', 140: 'SOUTLPX12A8C133854', 142: 'SOTUHSG12A8AE474EA', 157: 'SOVNIWE12A8C144C9E', 159: 'SOEDGSG12AB0184A57', 161: 'SOVQQYE12AB0183BD8', 166: 'SOXMSDY12A8C142C7E', 176: 'SOLXPTW12AB017D6EB', 178: 'SOZLTVI12A6D4F77B8', 198: 'SOFVBVJ12A8C1404EB', 201: 'SOIUGDX12A6D4FDECA', 229: 'SOTESSB12AB017F56D', 234: 'SOVVYPN12A8C1435D7', 242: 'SOWIAKP12AC3DFA050', 243: 'SOAOFMX12A8C1421AD', 256: 'SOTODXV12AB017E98D', 281: 'SORSZKZ12A8C13FEF1', 289: 'SOKLQWF12A8C1423F2', 290: 'SOVONGN12A58A791F9', 295: 'SOJYYHN12AB0182966', 301: 'SOAWDUW12AB0183A26', 322: 'SOESVCK12AB0181CCE', 326: 'SOJNBYN12AB0184232', 328: 'SOXRWWL12A8C1345F8', 343: 'SOAOFAT12AB018975D', 344: 'SOOCYBE12A58A7928D', 348: 'SORYYCT12A8C13FFAE', 374: 'SOWCTGJ12AB0184820', 383: 'SOBSVDV12AB0186089', 389: 'SOHJJTY12A8C139876', 405: 'SOWIOVE12AB0183FF9', 454: 'SOIQQYQ12A6D4F4AB7', 464: 'SOORFMU12A8C13C17C', 466: 'SONHEUO12AF72A4792', 540: 'SOMOYIF12AB01838BF', 592: 'SOTIBYV12A8C135CF7', 593: 'SOJMXSD12A6D4F81F8', 613: 'SOVOHEI12AB017C590', 614: 'SOOJJQO12A6D4FB913', 619: 'SOFGDDZ12AB0186E67', 626: 'SOFHZHN12AB0180EA6', 631: 'SONYFKQ12A58A7B29F', 658: 'SOANXLR12A6D4F82BF', 796: 'SOACCCG12AC468C7BC', 886: 'SOJMWVB12A8C14216A', 889: 'SODGYDA12A8C140E96', 901: 'SOCWHIM12A6D4FAAA7', 905: 'SOSYPFY12A58A7BF1D', 1005: 'SOFQGCQ12AB0183609', 1065: 'SOMORCS12A58A7E211', 1282: 'SOOONHL12AB01824B1', 1297: 'SOKIXDM12A8C136E04', 1386: 'SOSGKSM12A6D4F5626', 1508: 'SOGDDAA12A8C1391A9', 1592: 'SOFCVXH12AB0184394'}\n"
     ]
    }
   ],
   "source": [
    "print('Number of major micro-genres', len(ind.nodes()))\n",
    "print('\\nMain communities and their center node:', communities)"
   ]
  },
  {
   "cell_type": "code",
   "execution_count": 56,
   "metadata": {},
   "outputs": [],
   "source": [
    "from sklearn.model_selection import train_test_split"
   ]
  },
  {
   "cell_type": "code",
   "execution_count": null,
   "metadata": {},
   "outputs": [],
   "source": [
    "# set training data to be first half of a user's playlist\n",
    "# set testing data to be second half of a user's playlist\n",
    "train_data, test_data = train_test_split(X, y, test_size=(len(all_users[k])//2)) "
   ]
  },
  {
   "cell_type": "code",
   "execution_count": 34,
   "metadata": {},
   "outputs": [],
   "source": [
    "# training data to be first half of a user's playlist\n",
    "train_data = {k: all_users[k][0:(len(all_users[k])//2)] for k in all_users.keys()}"
   ]
  },
  {
   "cell_type": "code",
   "execution_count": 35,
   "metadata": {},
   "outputs": [
    {
     "data": {
      "text/plain": [
       "{'c0ff0f1c93f67c1fb372b36b1b08bb4c76bead7d': ['SOAKPQJ12A8C13D812',\n",
       "  'SOBGXEU12A8AE45903',\n",
       "  'SOBQWQX12A58A80CF8',\n",
       "  'SOBWWUF12A8C13AC82',\n",
       "  'SOCSBXQ12AB01806AC',\n",
       "  'SOEYEQN12A58A75F3F',\n",
       "  'SOFNSLY12A8C13B1C2',\n",
       "  'SOFTXKI12A6D4F71DA',\n",
       "  'SOFUHZF12A6D4F5A3F',\n",
       "  'SOHZPVD12AB01839E8',\n",
       "  'SOIOZPA12A8C137498',\n",
       "  'SOJDIWD12AB0186CE9',\n",
       "  'SOLAPGI12AF72A3955',\n",
       "  'SONMSZZ12A6701F352'],\n",
       " '283882c3d18ff2ad0e17124002ec02b847d06e9a': ['SOAKMDU12A8C1346A9',\n",
       "  'SOAXGDH12A8C13F8A1',\n",
       "  'SOAYCLH12A81C22D59',\n",
       "  'SOCCYYG12AB0184DE8',\n",
       "  'SOCQOZB12AB0185685',\n",
       "  'SOFEJPJ12A8C145455',\n",
       "  'SOGBFOO12A6D4FC933',\n",
       "  'SOHFJAQ12AB017E4AF',\n",
       "  'SOHFNKO12AB017C772',\n",
       "  'SOHGWFC12AB017F2E7',\n",
       "  'SOKUECJ12A6D4F6129',\n",
       "  'SOMCAFM12A58A7B024',\n",
       "  'SOMKDZU12AB0185690',\n",
       "  'SOOALOT12A8C13ABD9']}"
      ]
     },
     "execution_count": 35,
     "metadata": {},
     "output_type": "execute_result"
    }
   ],
   "source": [
    "# sanity check\n",
    "dict(islice(train_data.items(), 0, 2))"
   ]
  },
  {
   "cell_type": "code",
   "execution_count": 36,
   "metadata": {},
   "outputs": [],
   "source": [
    "# testing data to be second half of a user's playlist\n",
    "test_data = {k: all_users[k][(len(all_users[k])//2):] for k in all_users.keys()}"
   ]
  },
  {
   "cell_type": "code",
   "execution_count": 37,
   "metadata": {},
   "outputs": [
    {
     "data": {
      "text/plain": [
       "{'c0ff0f1c93f67c1fb372b36b1b08bb4c76bead7d': ['SOOOLOP12AB0189B72',\n",
       "  'SOOPHIF12A6D4F71DC',\n",
       "  'SOPAJOR12A58A81CC0',\n",
       "  'SOTSJHY12AF729C1A9',\n",
       "  'SOUNQLL12A6D4F5A3B',\n",
       "  'SOUYDLS12A6D4F6C0B',\n",
       "  'SOVGANS12A81C2268D',\n",
       "  'SOVNFJP12AF72A6545',\n",
       "  'SOVNHMU12A6D4F5A38',\n",
       "  'SOWKLHD12A67020290',\n",
       "  'SOXALRW12A8159E8D5',\n",
       "  'SOXASRE12A6D4F6C0C',\n",
       "  'SOXKBTV12AF72A3A89',\n",
       "  'SOXXZRM12A6D4F7F22'],\n",
       " '283882c3d18ff2ad0e17124002ec02b847d06e9a': ['SOODSPH12AB01819C3',\n",
       "  'SOOEEPE12A8AE459A4',\n",
       "  'SOOJQUT12A8C13EDA8',\n",
       "  'SOPUCYA12A8C13A694',\n",
       "  'SOQYRUF12AC3DF7136',\n",
       "  'SOSLQGG12A6D4F5045',\n",
       "  'SOSNGDI12A6D4FB4A1',\n",
       "  'SOTEFFR12A8C144765',\n",
       "  'SOTLAOJ12A6D4FB4B2',\n",
       "  'SOURSIU12A8C140B9A',\n",
       "  'SOWJIBM12A81C2242B',\n",
       "  'SOWPRYI12A58A7B51A',\n",
       "  'SOXIEDM12AB018A952',\n",
       "  'SOYDETO12A6D4F6F7E',\n",
       "  'SOZVCRW12A67ADA0B7']}"
      ]
     },
     "execution_count": 37,
     "metadata": {},
     "output_type": "execute_result"
    }
   ],
   "source": [
    "# sanity check\n",
    "dict(islice(test_data.items(), 0, 2))"
   ]
  },
  {
   "cell_type": "markdown",
   "metadata": {},
   "source": [
    "____"
   ]
  },
  {
   "cell_type": "code",
   "execution_count": 67,
   "metadata": {},
   "outputs": [],
   "source": [
    "#Get the nearest 12 neighbors in the database based on similarity\n",
    "join_statement = 'sid_tag JOIN tids ON (sim_measure >= 0.7) JOIN \\\n",
    "tags ON (tags.ROWID=sim_measure) JOIN track_id ON (sim_measure >= 0.7)'\n",
    "\n",
    "query = \"SELECT tids.tid, song_name, artist_name FROM {0} LIMIT 12;\".format(join_statement)"
   ]
  },
  {
   "cell_type": "code",
   "execution_count": 57,
   "metadata": {},
   "outputs": [
    {
     "name": "stdout",
     "output_type": "stream",
     "text": [
      "{'Juelz Santana': '45', 'Beenie Man': '35'}\n"
     ]
    }
   ],
   "source": [
    "pd.read_sql_query(query[0], conn)"
   ]
  },
  {
   "cell_type": "markdown",
   "metadata": {},
   "source": [
    "______"
   ]
  },
  {
   "cell_type": "code",
   "execution_count": 61,
   "metadata": {},
   "outputs": [],
   "source": [
    "import sqlite3\n",
    "conn = sqlite3.connect(\"data/similar_songs.db\")\n",
    "cursor = conn.cursor()"
   ]
  },
  {
   "cell_type": "code",
   "execution_count": 63,
   "metadata": {},
   "outputs": [
    {
     "data": {
      "text/plain": [
       "<sqlite3.Cursor at 0x1a272a8810>"
      ]
     },
     "execution_count": 63,
     "metadata": {},
     "output_type": "execute_result"
    }
   ],
   "source": [
    "# See tables in database\n",
    "cursor.execute(\"SELECT name FROM sqlite_master WHERE type='table';\")"
   ]
  },
  {
   "cell_type": "code",
   "execution_count": null,
   "metadata": {},
   "outputs": [],
   "source": [
    "pd.read_sql_query(\"SELECT * FROM songs\", conn)"
   ]
  },
  {
   "cell_type": "code",
   "execution_count": 60,
   "metadata": {},
   "outputs": [],
   "source": [
    "# User 1\n",
    "# 7 out of 14 similarities : \n",
    "# Juelz Santana - Why ; \n",
    "# Juelz Santana - Squalie; \n",
    "# Juelz Santana - This Is For My Homies; \n",
    "# Juelz Santana - Shottas;\n",
    "# Juelz Santana - Lil' Boy Fresh; \n",
    "# Juelz Santana - Intro (What The Game's Been Missing);\n",
    "# Juelz Santana - Let's Go\n",
    "\n",
    "\n",
    "#   50% accuracy for querried user"
   ]
  },
  {
   "cell_type": "code",
   "execution_count": null,
   "metadata": {},
   "outputs": [],
   "source": [
    "# User 2\n",
    "# 6 out of 15 similarities : \n",
    "# Los Campesinos - You! Me! Dancing!\n",
    "# Angus & Julia Stone - Mango Tree\n",
    "# The Killers - Somebody Told Me\n",
    "# Angus & Julia Stone - Just A Boy\n",
    "# Modest Mouse - Float On\n",
    "# Angus & Julia Stone - Black Crow\n",
    "\n",
    "#   ~40% accuracy for querried user"
   ]
  },
  {
   "cell_type": "code",
   "execution_count": 69,
   "metadata": {},
   "outputs": [],
   "source": [
    "##############################################################################################################\n",
    "#                       AUTOMATING SONG COMMUNITY DATABASE SEARCH\n",
    "##############################################################################################################\n",
    "\n",
    "\n",
    "\n",
    "\n",
    " \n",
    "#     Pushed database to Heroku postgresql dynos ................. DONE\n",
    "#     Database server: https://surumen-mixtape.herokuapp.com  ........ SERVER LIVE\n",
    "\n",
    "\n",
    "#     Front-end query site hosted on Github page:   https://surumen.github.io/mixtape/ ........... DONE\n",
    "#     Code for query site:     https://github.com/surumen/mixtape"
   ]
  },
  {
   "cell_type": "code",
   "execution_count": null,
   "metadata": {},
   "outputs": [],
   "source": []
  }
 ],
 "metadata": {
  "kernelspec": {
   "display_name": "Python 3",
   "language": "python",
   "name": "python3"
  },
  "language_info": {
   "codemirror_mode": {
    "name": "ipython",
    "version": 3
   },
   "file_extension": ".py",
   "mimetype": "text/x-python",
   "name": "python",
   "nbconvert_exporter": "python",
   "pygments_lexer": "ipython3",
   "version": "3.6.6"
  }
 },
 "nbformat": 4,
 "nbformat_minor": 2
}
