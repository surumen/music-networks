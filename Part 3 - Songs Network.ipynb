{
 "cells": [
  {
   "cell_type": "markdown",
   "metadata": {},
   "source": [
    "# Creating a Similar Songs Network\n",
    "\n",
    "*Moses Surumen, Ellen Peng, Kuhuk Goyal*  \n",
    "*CS 194-31  Final Project*  \n",
    "*Project Name: Music Networks*\n",
    "\n",
    "---"
   ]
  },
  {
   "cell_type": "markdown",
   "metadata": {},
   "source": [
    "## Introduction\n",
    "\n",
    "The **Million Song Dataset (MSD)** is a freely-available collection of audio features and metadata for a million contemporary popular music tracks. It contains track, song, artist, and album metadata as well as artist similarity and artist tags. The data is stored in HDF5 format, with one file per song.\n",
    "\n",
    "The dataset was created using the [**Echo Nest**](http://the.echonest.com/) API. More information on the dataset can be found [here](http://labrosa.ee.columbia.edu/millionsong/).\n",
    "\n",
    "\n",
    "---"
   ]
  },
  {
   "cell_type": "code",
   "execution_count": 1,
   "metadata": {},
   "outputs": [],
   "source": [
    "# Pandas\n",
    "import pandas as pd\n",
    "\n",
    "# Graph\n",
    "import community\n",
    "import networkx as nx\n",
    "\n",
    "# Plot\n",
    "import matplotlib.pyplot as plt\n",
    "import seaborn as sns\n",
    "\n",
    "# Combinations\n",
    "import itertools"
   ]
  },
  {
   "cell_type": "markdown",
   "metadata": {},
   "source": [
    "---\n",
    "##  Dataset Format"
   ]
  },
  {
   "cell_type": "markdown",
   "metadata": {},
   "source": [
    "| Column        | Description                            | Format\n",
    "| :------------ |--------------------------------------: | :-:\n",
    "| a_similar     | Similar artists                        | array('artistId', 'artistId', ... , 'artistId')\n",
    "| artist_7did   | Seven digit artist ID                  | \n",
    "| artist_id     | Echo Nest artist ID                    | \n",
    "| artist_mbid   | Music Brain artist ID                  | \n",
    "| artist_name   | Name of the artist                     | string\n",
    "| dance         | Danceability of the song               | float\n",
    "| dur           | Duration of the song                   | float\n",
    "| energy        | Energy of the song                     | float\n",
    "| song_id       | Echo Nest song ID                      | \n",
    "| title         | The title of the song                  |\n",
    "| track_id      | Echo Nest track ID                     |\n",
    "| year          | The year the song was released         |\n",
    "\n",
    "\n",
    "\n",
    "\n",
    "\n",
    "\n",
    "---"
   ]
  },
  {
   "cell_type": "markdown",
   "metadata": {},
   "source": [
    "## Get Data"
   ]
  },
  {
   "cell_type": "code",
   "execution_count": 19,
   "metadata": {},
   "outputs": [],
   "source": [
    "df = pd.read_csv('data/similar_songs.csv')"
   ]
  },
  {
   "cell_type": "code",
   "execution_count": 20,
   "metadata": {},
   "outputs": [
    {
     "data": {
      "text/html": [
       "<div>\n",
       "<style scoped>\n",
       "    .dataframe tbody tr th:only-of-type {\n",
       "        vertical-align: middle;\n",
       "    }\n",
       "\n",
       "    .dataframe tbody tr th {\n",
       "        vertical-align: top;\n",
       "    }\n",
       "\n",
       "    .dataframe thead th {\n",
       "        text-align: right;\n",
       "    }\n",
       "</style>\n",
       "<table border=\"1\" class=\"dataframe\">\n",
       "  <thead>\n",
       "    <tr style=\"text-align: right;\">\n",
       "      <th></th>\n",
       "      <th>TRARRUZ128F9307C57</th>\n",
       "      <th>TRGGBUV128F930B5F6</th>\n",
       "      <th>1</th>\n",
       "    </tr>\n",
       "  </thead>\n",
       "  <tbody>\n",
       "    <tr>\n",
       "      <th>0</th>\n",
       "      <td>TRARRUZ128F9307C57</td>\n",
       "      <td>TRKJAYK128F930B613</td>\n",
       "      <td>0.985081</td>\n",
       "    </tr>\n",
       "    <tr>\n",
       "      <th>1</th>\n",
       "      <td>TRARRUZ128F9307C57</td>\n",
       "      <td>TRHSFCB128F428D093</td>\n",
       "      <td>0.190086</td>\n",
       "    </tr>\n",
       "    <tr>\n",
       "      <th>2</th>\n",
       "      <td>TRARRUZ128F9307C57</td>\n",
       "      <td>TRGJYWK128F428D09A</td>\n",
       "      <td>0.006668</td>\n",
       "    </tr>\n",
       "    <tr>\n",
       "      <th>3</th>\n",
       "      <td>TRARRUZ128F9307C57</td>\n",
       "      <td>TRRCYEK128F92F930C</td>\n",
       "      <td>0.006554</td>\n",
       "    </tr>\n",
       "    <tr>\n",
       "      <th>4</th>\n",
       "      <td>TRARRUZ128F9307C57</td>\n",
       "      <td>TRBDVWE128F92F930A</td>\n",
       "      <td>0.006554</td>\n",
       "    </tr>\n",
       "  </tbody>\n",
       "</table>\n",
       "</div>"
      ],
      "text/plain": [
       "   TRARRUZ128F9307C57  TRGGBUV128F930B5F6         1\n",
       "0  TRARRUZ128F9307C57  TRKJAYK128F930B613  0.985081\n",
       "1  TRARRUZ128F9307C57  TRHSFCB128F428D093  0.190086\n",
       "2  TRARRUZ128F9307C57  TRGJYWK128F428D09A  0.006668\n",
       "3  TRARRUZ128F9307C57  TRRCYEK128F92F930C  0.006554\n",
       "4  TRARRUZ128F9307C57  TRBDVWE128F92F930A  0.006554"
      ]
     },
     "execution_count": 20,
     "metadata": {},
     "output_type": "execute_result"
    }
   ],
   "source": [
    "df.head()"
   ]
  },
  {
   "cell_type": "markdown",
   "metadata": {},
   "source": [
    "___"
   ]
  },
  {
   "cell_type": "markdown",
   "metadata": {},
   "source": [
    "## Create Graph"
   ]
  },
  {
   "cell_type": "code",
   "execution_count": 21,
   "metadata": {},
   "outputs": [],
   "source": [
    "G = nx.Graph()"
   ]
  },
  {
   "cell_type": "code",
   "execution_count": 22,
   "metadata": {},
   "outputs": [
    {
     "name": "stdout",
     "output_type": "stream",
     "text": [
      "\n",
      "Size of graph, i.e. number of edges: 0\n"
     ]
    }
   ],
   "source": [
    "# Print graph size\n",
    "print('\\nSize of graph, i.e. number of edges:', G.size())"
   ]
  },
  {
   "cell_type": "code",
   "execution_count": 23,
   "metadata": {},
   "outputs": [],
   "source": [
    "for index, row in df.iterrows():\n",
    "    if row[2] >= 0.7:\n",
    "        G.add_edge(row[0], row[1], weight=row[2], length=1.0)\n",
    "#         G.node[row[0]]['name'] = row[3]\n",
    "#         G.node[row[1]]['name'] = row[4]"
   ]
  },
  {
   "cell_type": "code",
   "execution_count": 24,
   "metadata": {},
   "outputs": [
    {
     "name": "stdout",
     "output_type": "stream",
     "text": [
      "\n",
      "Size of graph, i.e. number of edges: 21786\n"
     ]
    }
   ],
   "source": [
    "# Print graph size\n",
    "print('\\nSize of graph, i.e. number of edges:', G.size())"
   ]
  },
  {
   "cell_type": "markdown",
   "metadata": {},
   "source": [
    "___"
   ]
  },
  {
   "cell_type": "markdown",
   "metadata": {},
   "source": [
    "## Compute best partition"
   ]
  },
  {
   "cell_type": "code",
   "execution_count": 25,
   "metadata": {},
   "outputs": [
    {
     "name": "stdout",
     "output_type": "stream",
     "text": [
      "Modularity:  0.991105918116882\n"
     ]
    }
   ],
   "source": [
    "# Get best partition\n",
    "partition = community.best_partition(G)\n",
    "print('Modularity: ', community.modularity(partition, G))"
   ]
  },
  {
   "cell_type": "markdown",
   "metadata": {},
   "source": [
    "## Draw Graph to Gephi"
   ]
  },
  {
   "cell_type": "code",
   "execution_count": 26,
   "metadata": {},
   "outputs": [],
   "source": [
    "nx.write_gexf(G, \"network.gexf\")"
   ]
  },
  {
   "cell_type": "markdown",
   "metadata": {},
   "source": [
    "___"
   ]
  },
  {
   "cell_type": "markdown",
   "metadata": {},
   "source": [
    "## Filter communities"
   ]
  },
  {
   "cell_type": "markdown",
   "metadata": {},
   "source": [
    "Choose partitions with at least 25 songs, and at most 50 songs"
   ]
  },
  {
   "cell_type": "code",
   "execution_count": 40,
   "metadata": {},
   "outputs": [],
   "source": [
    "# Keep only communities with a minimum of songs\n",
    "centers = {}\n",
    "communities = {}\n",
    "G_main_com = G.copy()\n",
    "min_songs = 25\n",
    "# max_songs = 50\n",
    "for com in set(partition.values()) :\n",
    "    list_nodes = [nodes for nodes in partition.keys() if partition[nodes] == com]\n",
    "    if len(list_nodes) < min_songs:\n",
    "        G_main_com.remove_nodes_from(list_nodes)\n",
    "    else:\n",
    "        # Get center\n",
    "        H = G_main_com.subgraph(list_nodes)\n",
    "        d_c = nx.degree_centrality(H)\n",
    "        center = max(d_c, key=d_c.get)\n",
    "        centers[center] = com\n",
    "        communities[com] = center\n",
    "        # Print community\n",
    "#         print('Community of ', center , '(ID ', com, ') - ', len(list_nodes), ' songs:')\n",
    "#         print(list_nodes, '\\n')"
   ]
  },
  {
   "cell_type": "code",
   "execution_count": 30,
   "metadata": {},
   "outputs": [],
   "source": [
    "nx.write_gexf(G_main_com, \"partitions.gexf\")"
   ]
  },
  {
   "cell_type": "code",
   "execution_count": 31,
   "metadata": {},
   "outputs": [
    {
     "name": "stdout",
     "output_type": "stream",
     "text": [
      "Number of communities 85\n",
      "\n",
      "Main communities and their center node: {11: 'TRAQKTC128F429211E', 17: 'TRAXBYD12903C956EF', 47: 'TRACPZH128F9311764', 50: 'TRAWSIV128F92FA32B', 56: 'TRANGFI12903CC7801', 58: 'TRADOWO12903CD9BA2', 62: 'TRACHHO12903CF8CCA', 82: 'TRAGPMR128F930C0D8', 103: 'TRBANHO128F93466AF', 106: 'TRAREZN128F424E0FA', 113: 'TRAMTYA128F932EB9F', 129: 'TRAVIVD128F934029B', 145: 'TRAUUQJ12903CBB6B4', 162: 'TRAUZTB128F422730F', 230: 'TRBEMBM128F9324F2B', 264: 'TRAKSIS12903CA4FF3', 270: 'TRAUWCV12903CEE9C5', 273: 'TRAPVPS128F423CD26', 296: 'TRALWDN128F1456DB7', 300: 'TRAIGWQ128F4270EB9', 310: 'TRAITHR128F42B7E26', 316: 'TRADCIM128F427A3A1', 337: 'TRAATXO128F92D97A6', 344: 'TRADDPM12903CFED88', 359: 'TRASRRC128F93318B2', 360: 'TRBENZB128F429C5FD', 366: 'TRAEUHN128F92E2C7F', 379: 'TRBFQGP128F42948DA', 392: 'TRBHRXT128F427F7AD', 418: 'TRAZBCD128F426EB2F', 422: 'TRANRXY128F4222CB4', 456: 'TRAOUCS128F4233DFE', 457: 'TRACACF128F4261F09', 463: 'TRAAMKW128F4249CF0', 470: 'TRBFLHH128F429FDEA', 486: 'TRAHVBC12903CEF90F', 495: 'TRAPXVE128F92DD085', 514: 'TRBHFBW128F930A995', 528: 'TRAXHYT128F932C2EC', 538: 'TRAANLZ128F934EC42', 559: 'TRAZISB128F427907A', 563: 'TRBEMAH128F424215B', 582: 'TRAVUGT128F934D1F2', 596: 'TRASBFV128F1483E40', 608: 'TRAOWHF128F4255384', 620: 'TRBAJBF128EF347C72', 637: 'TRBGRAL128F42480F9', 641: 'TRAQIYQ12903CBAE8A', 737: 'TRAZRKX12903D0C4DB', 823: 'TRAZQCL128F428973A', 898: 'TRALNVU12903CC9C8F', 900: 'TRADABC128F4274FCC', 1013: 'TRAMVCA128F933F347', 1034: 'TRBFISG128F1473A72', 1067: 'TRASJCQ128F932D0BE', 1083: 'TRASVHW128F92E3A4B', 1116: 'TRASYDM128F421A907', 1157: 'TRBAIZX128F92FCDCE', 1178: 'TRBAJWE128F4216DB6', 1213: 'TRAYEKY12903D0128D', 1232: 'TRAAEUB12903CDD3EA', 1348: 'TRALQXV12903C9FE7B', 1380: 'TRBIHHY128F9306343', 1414: 'TRAMWJH128F145DBE9', 1555: 'TRBBMHE128EF341D09', 1614: 'TRAHWOM128F933A1A1', 1620: 'TRAMUYY128F4275B6B', 1661: 'TRAPKNH128F1467FBD', 1686: 'TRBCFDY128F934D6CF', 1982: 'TRBDUPX128F932C89B', 2042: 'TRADFBR128F9308456', 2128: 'TRAPGCJ128F428CCD9', 2283: 'TRBDVCW128F427C875', 2343: 'TRAXULE128F9320132', 2376: 'TRAXOIQ128F4279F9C', 2386: 'TRAXMLO128F933BC5E', 2530: 'TRAEXYP128F4231193', 2671: 'TRABLVP128F426EE4A', 2737: 'TRAYYZG12903CE7914', 2748: 'TRAKXUY128F4228046', 3302: 'TRBGZQZ128F427E394', 3784: 'TRBCKXX128F92FD505', 3790: 'TRBCLUS128F92EA61B', 3842: 'TRBDAID128F92E88C6', 4011: 'TRBBMTJ128F1477785'}\n"
     ]
    }
   ],
   "source": [
    "nodes_main_com = {k: v for k, v in partition.items() if v in communities}\n",
    "ind = community.induced_graph(nodes_main_com, G_main_com)\n",
    "print('Number of communities', len(ind.nodes()))\n",
    "print('\\nMain communities and their center node:', communities)"
   ]
  },
  {
   "cell_type": "markdown",
   "metadata": {},
   "source": [
    "## Display graph"
   ]
  },
  {
   "cell_type": "code",
   "execution_count": null,
   "metadata": {},
   "outputs": [
    {
     "name": "stderr",
     "output_type": "stream",
     "text": [
      "/Users/moses/miniconda3/envs/16b/lib/python3.6/site-packages/networkx/drawing/layout.py:499: RuntimeWarning: invalid value encountered in sqrt\n",
      "  distance = np.sqrt((delta**2).sum(axis=0))\n"
     ]
    }
   ],
   "source": [
    "plt.figure(figsize=(13, 9))\n",
    "node_size = 10\n",
    "count = 0\n",
    "pos = nx.spring_layout(G_main_com)\n",
    "colors = dict(zip(communities.keys(), sns.color_palette('hls', len(communities.keys()))))\n",
    "\n",
    "for com in communities.keys():\n",
    "    count = count + 1\n",
    "    list_nodes = [nodes for nodes in partition.keys() if partition[nodes] == com and nodes not in communities.values()]\n",
    "    nx.draw_networkx_nodes(G_main_com, pos, list_nodes, node_size = node_size, node_color = colors[com])\n",
    "    nx.draw_networkx_nodes(G_main_com, pos, list([communities[com]]), node_size = node_size*5, node_color = colors[com])\n",
    "nx.draw_networkx_edges(G_main_com, pos, alpha=0.5)\n",
    "labels = {k: str(v) + ': ' + k for k,v in centers.items()}\n",
    "plt.axis('off')\n",
    "plt.savefig(\"communities_viz.pdf\")\n",
    "plt.show()"
   ]
  },
  {
   "cell_type": "code",
   "execution_count": 32,
   "metadata": {},
   "outputs": [],
   "source": [
    "nx.write_gexf(ind, \"induced.gexf\")"
   ]
  },
  {
   "cell_type": "markdown",
   "metadata": {},
   "source": [
    "## Display induced graph"
   ]
  },
  {
   "cell_type": "code",
   "execution_count": 36,
   "metadata": {},
   "outputs": [
    {
     "data": {
      "image/png": "[encoded data removed]",
      "text/plain": [
       "<Figure size 432x288 with 1 Axes>"
      ]
     },
     "metadata": {},
     "output_type": "display_data"
    }
   ],
   "source": [
    "pos_ind = nx.spring_layout(ind)\n",
    "colors = dict(zip(communities.keys(), sns.color_palette('hls', len(communities.keys()))))\n",
    "labels = {k: str(k) + ': ' + v for k,v in communities.items()}\n",
    "nx.draw(ind, pos_ind, node_list=list(colors.keys()), node_color=list(colors.values()))\n",
    "plt.show()"
   ]
  },
  {
   "cell_type": "code",
   "execution_count": null,
   "metadata": {},
   "outputs": [],
   "source": []
  }
 ],
 "metadata": {
  "kernelspec": {
   "display_name": "Python 3",
   "language": "python",
   "name": "python3"
  },
  "language_info": {
   "codemirror_mode": {
    "name": "ipython",
    "version": 3
   },
   "file_extension": ".py",
   "mimetype": "text/x-python",
   "name": "python",
   "nbconvert_exporter": "python",
   "pygments_lexer": "ipython3",
   "version": "3.6.6"
  }
 },
 "nbformat": 4,
 "nbformat_minor": 2
}
