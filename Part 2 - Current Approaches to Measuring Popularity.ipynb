{
 "cells": [
  {
   "cell_type": "markdown",
   "metadata": {},
   "source": [
    "# Current Approaches to Measuring Popularity\n",
    "\n",
    "*Moses Surumen, Ellen Peng, Kuhuk Goyal*  \n",
    "*CS 194-31  Final Project*  \n",
    "*Project Name: Music Networks*\n",
    "\n",
    "---"
   ]
  },
  {
   "cell_type": "markdown",
   "metadata": {},
   "source": [
    "# Billboard\n",
    "\n",
    "The Billboard Hot 100 is the music industry standard record chart in the United States for popular songs. Billboard published **The Top 100** for the first time in 1955. Popularity is measured using charts. Chart rankings are based on a combination of sales (digital and physical), radio play, and online streaming in the United States. Billboard states that the approximate weighting is as follows:\n",
    "\n",
    "| Sales | Airplay | Streaming       \n",
    "| :- |-------------: | :-:\n",
    "| 35% - 45% | 30% - 40%  | 20% - 30%\n",
    "\n",
    "A year end chart is released ranking that year's songs popularity based on total sales, streaming, and airplay."
   ]
  },
  {
   "cell_type": "markdown",
   "metadata": {},
   "source": [
    "# Spotify\n",
    "\n",
    "The Billboard Hot 100 is the music industry standard record chart in the United States for popular songs. Billboard published **The Top 100** for the first time in 1955. Popularity is measured using charts. Chart rankings are based on a combination of sales (digital and physical), radio play, and online streaming in the United States. Billboard states that the approximate weighting is as follows:\n",
    "\n",
    "| Sales | Airplay | Streaming       \n",
    "| :- |-------------: | :-:\n",
    "| 35% - 45% | 30% - 40%  | 20% - 30%\n",
    "\n",
    "A year end chart is released ranking that year's songs popularity based on total sales, streaming, and airplay."
   ]
  },
  {
   "cell_type": "markdown",
   "metadata": {},
   "source": [
    "### Load data files"
   ]
  },
  {
   "cell_type": "code",
   "execution_count": 46,
   "metadata": {},
   "outputs": [],
   "source": [
    "import os\n",
    "import pandas as pd\n",
    "\n",
    "path = 'file:' + os.getcwd() + '/data/'"
   ]
  },
  {
   "cell_type": "code",
   "execution_count": 58,
   "metadata": {},
   "outputs": [],
   "source": [
    "billboard_2016 = path + 'Billboard_Top_100_2016.csv' # Billboard Top 100 2016\n",
    "billboard_2017 = path + 'Billboard_Top_100_2017.csv' # Billboard Top 100 2017\n",
    "spotify_2016 = path + 'Spotify_Top_100_2016.csv' # Spotify Top 100 2016\n",
    "spotify_2017 = path + 'Spotify_Top_100_2017.csv' # Spotify Top 100 2017"
   ]
  },
  {
   "cell_type": "code",
   "execution_count": 48,
   "metadata": {},
   "outputs": [],
   "source": [
    "df_spotify_2017 = pd.read_csv(spotify_2017)\n",
    "df_spotify_2016 = pd.read_csv(spotify_2016)\n",
    "df_billboard_2017 = pd.read_csv(billboard_2017)\n",
    "df_billboard_2016 = pd.read_csv(billboard_2016)"
   ]
  },
  {
   "cell_type": "code",
   "execution_count": 50,
   "metadata": {},
   "outputs": [
    {
     "data": {
      "text/plain": [
       "0                                        \"Shape of You\"\n",
       "1                                           \"Despacito\"\n",
       "2                                           \"Despacito\"\n",
       "3                            \"Something Just Like This\"\n",
       "4                                         \"I'm the One\"\n",
       "5                                             \"HUMBLE.\"\n",
       "6                                         \"It Ain't Me\"\n",
       "7                                       \"Unforgettable\"\n",
       "8                                  \"That's What I Like\"\n",
       "9     \"I Don’t Wanna Live Forever (Fifty Shades Dark...\n",
       "10                                      \"XO TOUR Llif3\"\n",
       "11                                              \"Paris\"\n",
       "12                                               \"Stay\"\n",
       "13                                          \"Attention\"\n",
       "14                                           \"Mask Off\"\n",
       "15                                    \"Congratulations\"\n",
       "16                                             \"Swalla\"\n",
       "17                                 \"Castle on the Hill\"\n",
       "18                                           \"Rockabye\"\n",
       "19                                           \"Believer\"\n",
       "20                                           \"Mi Gente\"\n",
       "21                                            \"Thunder\"\n",
       "22                               \"Say You Won't Let Go\"\n",
       "23                    \"There's Nothing Holdin' Me Back\"\n",
       "24                                          \"Me Rehúso\"\n",
       "25                                             \"Issues\"\n",
       "26                                        \"Galway Girl\"\n",
       "27                                \"Scared to Be Lonely\"\n",
       "28                                             \"Closer\"\n",
       "29                                           \"Symphony\"\n",
       "                            ...                        \n",
       "70                                  \"Sign of the Times\"\n",
       "71                                         \"goosebumps\"\n",
       "72                                 \"Young Dumb & Broke\"\n",
       "73                                      \"There for You\"\n",
       "74                                               \"Cold\"\n",
       "75                                            \"Silence\"\n",
       "76                               \"Too Good At Goodbyes\"\n",
       "77                                       \"Just Hold On\"\n",
       "78                           \"Look What You Made Me Do\"\n",
       "79                                           \"Glorious\"\n",
       "80                                           \"Starving\"\n",
       "81                         \"Reggaetón Lento (Bailemos)\"\n",
       "82                                               \"Weak\"\n",
       "83                                       \"Side To Side\"\n",
       "84                                           \"Otra Vez\"\n",
       "85                                   \"I Like Me Better\"\n",
       "86                                \"In the Name of Love\"\n",
       "87                                         \"Cold Water\"\n",
       "88                                             \"Malibu\"\n",
       "89                                          \"All Night\"\n",
       "90                                        \"Hear Me Now\"\n",
       "91                                          \"Your Song\"\n",
       "92                                         \"Ahora Dice\"\n",
       "93                                            \"Friends\"\n",
       "94                                       \"Bank Account\"\n",
       "95                                         \"Bad Things\"\n",
       "96                                  \"Don't Let Me Down\"\n",
       "97                              \"Body Like A Back Road\"\n",
       "98                                       \"Now Or Never\"\n",
       "99                                     \"Dusk Till Dawn\"\n",
       "Name: title, Length: 100, dtype: object"
      ]
     },
     "execution_count": 50,
     "metadata": {},
     "output_type": "execute_result"
    }
   ],
   "source": [
    "# Rows:\n",
    "#df_spotify_2017.iloc[0] # first row\n",
    "df_spotify_2017.iloc[:,0] # first column"
   ]
  },
  {
   "cell_type": "code",
   "execution_count": 51,
   "metadata": {},
   "outputs": [
    {
     "data": {
      "text/plain": [
       "0                        \"Shape of You\"\n",
       "1                           \"Despacito\"\n",
       "2                  \"That's What I Like\"\n",
       "3                             \"HUMBLE.\"\n",
       "4            \"Something Just Like This\"\n",
       "5                      \"Bad and Boujee\"\n",
       "6                              \"Closer\"\n",
       "7               \"Body Like a Back Road\"\n",
       "8                            \"Believer\"\n",
       "9                     \"Congratulations\"\n",
       "10               \"Say You Won't Let Go\"\n",
       "11                        \"I'm the One\"\n",
       "12                      \"XO Tour Llif3\"\n",
       "13                           \"Mask Off\"\n",
       "14                      \"Unforgettable\"\n",
       "15                          \"24K Magic\"\n",
       "16                               \"Stay\"\n",
       "17                      \"Wild Thoughts\"\n",
       "18                      \"Black Beatles\"\n",
       "19                            \"Starboy\"\n",
       "20                           \"Location\"\n",
       "21                          \"Attention\"\n",
       "22    \"There's Nothing Holdin' Me Back\"\n",
       "23         \"Bodak Yellow (Money Moves)\"\n",
       "24                            \"Redbone\"\n",
       "25         \"I Don't Wanna Live Forever\"\n",
       "26                        \"It Ain't Me\"\n",
       "27                               \"iSpy\"\n",
       "28                             \"Issues\"\n",
       "29            \"Scars to Your Beautiful\"\n",
       "                    ...                \n",
       "70                              \"Slide\"\n",
       "71                           \"What Ifs\"\n",
       "72              \"Chained to the Rhythm\"\n",
       "73                              \"Feels\"\n",
       "74                       \"All Time Low\"\n",
       "75                          \"Hurricane\"\n",
       "76               \"Too Good at Goodbyes\"\n",
       "77                 \"Young Dumb & Broke\"\n",
       "78                           \"Magnolia\"\n",
       "79                        \"Love Galore\"\n",
       "80                           \"Drowning\"\n",
       "81                           \"Starving\"\n",
       "82                               \"Both\"\n",
       "83                      \"What About Us\"\n",
       "84                             \"Swalla\"\n",
       "85                           \"Slippery\"\n",
       "86                  \"Sign of the Times\"\n",
       "87             \"Water Under the Bridge\"\n",
       "88                             \"Malibu\"\n",
       "89                               \"Down\"\n",
       "90                        \"No Promises\"\n",
       "91                   \"Treat You Better\"\n",
       "92                      \"I Get the Bag\"\n",
       "93                     \"Small Town Boy\"\n",
       "94                    \"Everyday We Lit\"\n",
       "95                             \"Havana\"\n",
       "96                     \"What Lovers Do\"\n",
       "97                           \"Do Re Mi\"\n",
       "98                        \"Look at Me!\"\n",
       "99                        \"The Fighter\"\n",
       "Name: title, Length: 100, dtype: object"
      ]
     },
     "execution_count": 51,
     "metadata": {},
     "output_type": "execute_result"
    }
   ],
   "source": [
    "# Rows:\n",
    "#df_billboard_2017.iloc[0] # first row\n",
    "df_billboard_2017.iloc[:,0] # first column"
   ]
  },
  {
   "cell_type": "markdown",
   "metadata": {},
   "source": [
    "### Comparison between Billboard Top 100 and Spotify Top 100 (2017)"
   ]
  },
  {
   "cell_type": "code",
   "execution_count": 65,
   "metadata": {},
   "outputs": [],
   "source": [
    "import networkx as nx\n",
    "from networkx.algorithms import bipartite\n",
    "import csv"
   ]
  },
  {
   "cell_type": "code",
   "execution_count": null,
   "metadata": {},
   "outputs": [],
   "source": []
  },
  {
   "cell_type": "code",
   "execution_count": null,
   "metadata": {},
   "outputs": [],
   "source": []
  }
 ],
 "metadata": {
  "kernelspec": {
   "display_name": "Python 3",
   "language": "python",
   "name": "python3"
  },
  "language_info": {
   "codemirror_mode": {
    "name": "ipython",
    "version": 3
   },
   "file_extension": ".py",
   "mimetype": "text/x-python",
   "name": "python",
   "nbconvert_exporter": "python",
   "pygments_lexer": "ipython3",
   "version": "3.6.6"
  }
 },
 "nbformat": 4,
 "nbformat_minor": 2
}
