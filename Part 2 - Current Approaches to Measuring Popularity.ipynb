{
 "cells": [
  {
   "cell_type": "markdown",
   "metadata": {},
   "source": [
    "# Current Approaches to Measuring Popularity\n",
    "\n",
    "*Moses Surumen, Ellen Peng, Kuhuk Goyal*  \n",
    "*CS 194-31  Final Project*  \n",
    "*Project Name: Music Networks*\n",
    "\n",
    "---"
   ]
  },
  {
   "cell_type": "markdown",
   "metadata": {},
   "source": [
    "# Billboard\n",
    "\n",
    "The Billboard Hot 100 is the music industry standard record chart in the United States for popular songs. Billboard published **The Top 100** for the first time in 1955. Popularity is measured using charts. Chart rankings are based on a combination of sales (digital and physical), radio play, and online streaming in the United States. Billboard states that the approximate weighting is as follows:\n",
    "\n",
    "| Sales | Airplay | Streaming       \n",
    "| :- |-------------: | :-:\n",
    "| 35% - 45% | 30% - 40%  | 20% - 30%\n",
    "\n",
    "A year end chart is released ranking that year's songs popularity based on total sales, streaming, and airplay."
   ]
  },
  {
   "cell_type": "markdown",
   "metadata": {},
   "source": [
    "# Spotify\n",
    "\n",
    "Spotify is now the most popular music streaming platform in the world, with over 140 million users. Every year they also release a playlist of 100 most streamed songs for that year.\n",
    "The results are not exactly the same as for Billboard, as we see below."
   ]
  },
  {
   "cell_type": "markdown",
   "metadata": {},
   "source": [
    "### Load data files"
   ]
  },
  {
   "cell_type": "code",
   "execution_count": 46,
   "metadata": {},
   "outputs": [],
   "source": [
    "import os\n",
    "import pandas as pd\n",
    "\n",
    "path = 'file:' + os.getcwd() + '/data/'"
   ]
  },
  {
   "cell_type": "code",
   "execution_count": 58,
   "metadata": {},
   "outputs": [],
   "source": [
    "billboard_2016 = path + 'Billboard_Top_100_2016.csv' # Billboard Top 100 2016\n",
    "billboard_2017 = path + 'Billboard_Top_100_2017.csv' # Billboard Top 100 2017\n",
    "spotify_2016 = path + 'Spotify_Top_100_2016.csv' # Spotify Top 100 2016\n",
    "spotify_2017 = path + 'Spotify_Top_100_2017.csv' # Spotify Top 100 2017"
   ]
  },
  {
   "cell_type": "code",
   "execution_count": 48,
   "metadata": {},
   "outputs": [],
   "source": [
    "df_spotify_2017 = pd.read_csv(spotify_2017)\n",
    "df_spotify_2016 = pd.read_csv(spotify_2016)\n",
    "df_billboard_2017 = pd.read_csv(billboard_2017)\n",
    "df_billboard_2016 = pd.read_csv(billboard_2016)"
   ]
  },
  {
   "cell_type": "code",
   "execution_count": 70,
   "metadata": {},
   "outputs": [],
   "source": [
    "# Rows:\n",
    "#df_spotify_2017.iloc[0] # first row\n",
    "# df_spotify_2017.iloc[:,0] # first column"
   ]
  },
  {
   "cell_type": "code",
   "execution_count": 71,
   "metadata": {},
   "outputs": [],
   "source": [
    "# Rows:\n",
    "#df_billboard_2017.iloc[0] # first row\n",
    "# df_billboard_2017.iloc[:,0] # first column"
   ]
  },
  {
   "cell_type": "markdown",
   "metadata": {},
   "source": [
    "### Comparison between Billboard Top 100 and Spotify Top 100 (2017)"
   ]
  },
  {
   "cell_type": "code",
   "execution_count": 65,
   "metadata": {},
   "outputs": [],
   "source": [
    "import networkx as nx\n",
    "from networkx.algorithms import bipartite\n",
    "import csv"
   ]
  },
  {
   "cell_type": "code",
   "execution_count": null,
   "metadata": {},
   "outputs": [],
   "source": [
    "# Create a bipartite (edgelist) graph for Spotify and Billboard rankings for each song\n",
    "# Last category for each is unranked"
   ]
  },
  {
   "cell_type": "markdown",
   "metadata": {},
   "source": [
    "## Most Popular Artists on Spotify and Billboard"
   ]
  },
  {
   "cell_type": "code",
   "execution_count": null,
   "metadata": {},
   "outputs": [],
   "source": []
  },
  {
   "cell_type": "code",
   "execution_count": null,
   "metadata": {},
   "outputs": [],
   "source": []
  },
  {
   "cell_type": "markdown",
   "metadata": {},
   "source": [
    "## Most Popular Genres on Spotify and Billboard"
   ]
  },
  {
   "cell_type": "code",
   "execution_count": null,
   "metadata": {},
   "outputs": [],
   "source": []
  },
  {
   "cell_type": "code",
   "execution_count": null,
   "metadata": {},
   "outputs": [],
   "source": []
  }
 ],
 "metadata": {
  "kernelspec": {
   "display_name": "Python 3",
   "language": "python",
   "name": "python3"
  },
  "language_info": {
   "codemirror_mode": {
    "name": "ipython",
    "version": 3
   },
   "file_extension": ".py",
   "mimetype": "text/x-python",
   "name": "python",
   "nbconvert_exporter": "python",
   "pygments_lexer": "ipython3",
   "version": "3.6.6"
  }
 },
 "nbformat": 4,
 "nbformat_minor": 2
}
