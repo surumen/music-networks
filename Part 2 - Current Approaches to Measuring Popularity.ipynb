{
 "cells": [
  {
   "cell_type": "markdown",
   "metadata": {},
   "source": [
    "# Current Approaches to Measuring Popularity\n",
    "\n",
    "*Moses Surumen, Ellen Peng, Kuhuk Goyal*  \n",
    "*CS 194-31  Final Project*  \n",
    "*Project Name: Music Networks*\n",
    "\n",
    "---"
   ]
  },
  {
   "cell_type": "markdown",
   "metadata": {},
   "source": [
    "# Billboard versus Spotify\n",
    "\n",
    "For many popular songs, there is a period after its release when it \"trends\" - spreads quickly through the population, through the media, and from person to person, until it reaches its peak popularity and starts to gradually diminish after that.\n",
    "\n",
    "> Michael Jackson's 1982 album ***Thriller*** which is the most popular album of all time peaked in 1983. After its release, it was No. 1 on Billboard 200 Charts for [37 weeks](https://www.billboard.com/music/michael-jackson/chart-history/billboard-200/song/181096). Gradually afterwards, it moved down the charts until 2009 when it resurfaced again. For the first time in Billboard charts history, [all Top 10 positions](https://www.billboard.com/articles/news/268174/remembering-michael-jackson-king-of-charts) were occupied by one artist as Jackson took each spot in the weeks of July and August."
   ]
  },
  {
   "cell_type": "code",
   "execution_count": null,
   "metadata": {},
   "outputs": [],
   "source": []
  }
 ],
 "metadata": {
  "kernelspec": {
   "display_name": "Python 3",
   "language": "python",
   "name": "python3"
  },
  "language_info": {
   "codemirror_mode": {
    "name": "ipython",
    "version": 3
   },
   "file_extension": ".py",
   "mimetype": "text/x-python",
   "name": "python",
   "nbconvert_exporter": "python",
   "pygments_lexer": "ipython3",
   "version": "3.6.6"
  }
 },
 "nbformat": 4,
 "nbformat_minor": 2
}
