{
 "cells": [
  {
   "cell_type": "markdown",
   "metadata": {},
   "source": [
    "# Current Approaches to Measuring Popularity\n",
    "\n",
    "*Moses Surumen, Ellen Peng, Kuhuk Goyal*  \n",
    "*CS 194-31  Final Project*  \n",
    "*Project Name: Music Networks*\n",
    "\n",
    "---"
   ]
  },
  {
   "cell_type": "markdown",
   "metadata": {},
   "source": [
    "# Billboard\n",
    "\n",
    "The Billboard Hot 100 is the music industry standard record chart in the United States for popular songs. Billboard published **The Top 100** for the first time in 1955. Popularity is measured using charts. Chart rankings are based on a combination of sales (digital and physical), radio play, and online streaming in the United States. Billboard states that the approximate weighting is as follows:\n",
    "\n",
    "| Sales | Airplay | Streaming       \n",
    "| :- |-------------: | :-:\n",
    "| 35% - 45% | 30% - 40%  | 20% - 30%\n",
    "\n",
    "A year end chart is released ranking that year's songs popularity based on total sales, streaming, and airplay."
   ]
  },
  {
   "cell_type": "code",
   "execution_count": null,
   "metadata": {},
   "outputs": [],
   "source": []
  }
 ],
 "metadata": {
  "kernelspec": {
   "display_name": "Python 3",
   "language": "python",
   "name": "python3"
  },
  "language_info": {
   "codemirror_mode": {
    "name": "ipython",
    "version": 3
   },
   "file_extension": ".py",
   "mimetype": "text/x-python",
   "name": "python",
   "nbconvert_exporter": "python",
   "pygments_lexer": "ipython3",
   "version": "3.6.6"
  }
 },
 "nbformat": 4,
 "nbformat_minor": 2
}
